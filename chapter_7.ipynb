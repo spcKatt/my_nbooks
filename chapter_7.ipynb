{
 "cells": [
  {
   "cell_type": "markdown",
   "metadata": {},
   "source": [
    "<img src='pyprog.png'>"
   ]
  },
  {
   "cell_type": "markdown",
   "metadata": {},
   "source": [
    "## CHAPTER 7 SAMPLE PROGRAMS\n",
    "* Each cell has a Chapter 7 sample program.\n",
    "* Run each cell **as you read the textbook**.\n",
    "* **Experiment!** Edit cells and run them or insert new cells and run them."
   ]
  },
  {
   "cell_type": "code",
   "execution_count": 1,
   "metadata": {},
   "outputs": [
    {
     "name": "stdout",
     "output_type": "stream",
     "text": [
      "Enter the sales for each day.\n"
     ]
    },
    {
     "name": "stdin",
     "output_type": "stream",
     "text": [
      "Day #1:  12\n",
      "Day #2:  13\n",
      "Day #3:  14\n",
      "Day #4:  13\n",
      "Day #5:  12\n"
     ]
    },
    {
     "name": "stdout",
     "output_type": "stream",
     "text": [
      "Here are the values you entered:\n",
      "12.0\n",
      "13.0\n",
      "14.0\n",
      "13.0\n",
      "12.0\n"
     ]
    }
   ],
   "source": [
    "# sales_list.py\n",
    "# The NUM_DAYS constant holds the number of\n",
    "# days that we will gather sales data for.\n",
    "NUM_DAYS = 5\n",
    "\n",
    "def main():\n",
    "    # Create a list to hold the sales for each day.\n",
    "    sales = [0] * NUM_DAYS\n",
    "\n",
    "    print('Enter the sales for each day.')\n",
    "    \n",
    "    # Get the sales for each day.\n",
    "    for index in range(len(sales)):\n",
    "        sales[index] = float(input(f'Day #{index + 1}: '))\n",
    "\n",
    "    # Display the values entered.\n",
    "    print('Here are the values you entered:')\n",
    "    for value in sales:\n",
    "        print(value)\n",
    "\n",
    "# Call the main function.\n",
    "if __name__ == '__main__':\n",
    "    main()"
   ]
  },
  {
   "cell_type": "code",
   "execution_count": 2,
   "metadata": {},
   "outputs": [
    {
     "name": "stdin",
     "output_type": "stream",
     "text": [
      "Enter a product number:  2\n"
     ]
    },
    {
     "name": "stdout",
     "output_type": "stream",
     "text": [
      "2 was not found in the list.\n"
     ]
    }
   ],
   "source": [
    "# in_list.py\n",
    "# This program demonstrates the in operator\n",
    "# used with a list.\n",
    "\n",
    "def main():\n",
    "    # Create a list of product numbers.\n",
    "    prod_nums = ['V475', 'F987', 'Q143', 'R688']\n",
    "\n",
    "    # Get a product number to search for.\n",
    "    search = input('Enter a product number: ')\n",
    "\n",
    "    # Determine whether the product number is in the list.\n",
    "    if search in prod_nums:\n",
    "        print(f'{search} was found in the list.')\n",
    "    else:\n",
    "        print(f'{search} was not found in the list.')\n",
    "\n",
    "# Call the main function.\n",
    "if __name__ == '__main__':\n",
    "    main()"
   ]
  },
  {
   "cell_type": "code",
   "execution_count": 3,
   "metadata": {},
   "outputs": [
    {
     "name": "stdin",
     "output_type": "stream",
     "text": [
      "Enter a name:  Dick\n"
     ]
    },
    {
     "name": "stdout",
     "output_type": "stream",
     "text": [
      "Do you want to add another name?\n"
     ]
    },
    {
     "name": "stdin",
     "output_type": "stream",
     "text": [
      "y = yes, anything else = no:  n\n"
     ]
    },
    {
     "name": "stdout",
     "output_type": "stream",
     "text": [
      "\n",
      "Here are the names you entered.\n",
      "Dick\n"
     ]
    }
   ],
   "source": [
    "# list_append.py\n",
    "# This program demonstrates how the append\n",
    "# method can be used to add items to a list.\n",
    "\n",
    "def main():\n",
    "    # First, create an empty list.\n",
    "    name_list = []\n",
    "\n",
    "    # Create a variable to control the loop.\n",
    "    again = 'Y'\n",
    "    \n",
    "    # Add some names to the list.\n",
    "    while again.upper() == 'Y':\n",
    "        # Get a name from the user.\n",
    "        name = input('Enter a name: ')\n",
    "\n",
    "        # Append the name to the list.\n",
    "        name_list.append(name)\n",
    "\n",
    "        # Add another one?\n",
    "        print('Do you want to add another name?')\n",
    "        again = input('y = yes, anything else = no: ')\n",
    "        print()\n",
    "\n",
    "    # Display the names that were entered.\n",
    "    print('Here are the names you entered.')\n",
    "    \n",
    "    for name in name_list:\n",
    "        print(name)\n",
    "\n",
    "# Call the main function.\n",
    "if __name__ == '__main__':\n",
    "    main()"
   ]
  },
  {
   "cell_type": "code",
   "execution_count": null,
   "metadata": {},
   "outputs": [
    {
     "name": "stdout",
     "output_type": "stream",
     "text": [
      "Here are the items in the food list:\n",
      "['Pizza', 'Burgers', 'Chips']\n"
     ]
    }
   ],
   "source": [
    "# index_list.py\n",
    "# This program demonstrates how to get the\n",
    "# index of an item in a list and then replace\n",
    "# that item with a new item.\n",
    "\n",
    "def main():\n",
    "    # Create a list with some items.\n",
    "    food = ['Pizza', 'Burgers', 'Chips']\n",
    "\n",
    "    # Display the list.\n",
    "    print('Here are the items in the food list:')\n",
    "    print(food)\n",
    "\n",
    "    # Get the item to change.\n",
    "    item = input('Which item should I change? ')\n",
    "\n",
    "    try:\n",
    "        # Get the item's index in the list.\n",
    "        item_index = food.index(item)\n",
    "\n",
    "        # Get the value to replace it with.\n",
    "        new_item = input('Enter the new value: ')\n",
    "\n",
    "        # Replace the old item with the new item.\n",
    "        food[item_index] = new_item\n",
    "\n",
    "        # Display the list.\n",
    "        print('Here is the revised list:')\n",
    "        print(food)\n",
    "    except ValueError:\n",
    "        print('That item was not found in the list.')\n",
    "\n",
    "# Call the main function.\n",
    "if __name__ == '__main__':\n",
    "    main()"
   ]
  },
  {
   "cell_type": "code",
   "execution_count": null,
   "metadata": {},
   "outputs": [],
   "source": [
    "# insert_list.py\n",
    "# This program demonstrates the insert method.\n",
    "\n",
    "def main():\n",
    "    # Create a list with some names.\n",
    "    names = ['James', 'Kathryn', 'Bill']\n",
    "\n",
    "    # Display the list.\n",
    "    print('The list before the insert:')\n",
    "    print(names)\n",
    "\n",
    "    # Insert a new name at element 0.\n",
    "    names.insert(0, 'Joe')\n",
    "\n",
    "    # Display the list again.\n",
    "    print('The list after the insert:')\n",
    "    print(names)\n",
    "\n",
    "# Call the main function.\n",
    "if __name__ == '__main__':\n",
    "    main()"
   ]
  },
  {
   "cell_type": "code",
   "execution_count": null,
   "metadata": {},
   "outputs": [],
   "source": [
    "# remove_item.py\n",
    "# This program demonstrates how to use the remove\n",
    "# method to remove an item from a list.\n",
    "\n",
    "def main():\n",
    "    # Create a list with some items.\n",
    "    food = ['Pizza', 'Burgers', 'Chips']\n",
    "\n",
    "    # Display the list.\n",
    "    print('Here are the items in the food list:')\n",
    "    print(food)\n",
    "\n",
    "    # Get the item to change.\n",
    "    item = input('Which item should I remove? ')\n",
    "\n",
    "    try:\n",
    "        # Remove the item.\n",
    "        food.remove(item)\n",
    "\n",
    "        # Display the list.\n",
    "        print('Here is the revised list:')\n",
    "        print(food)\n",
    "        \n",
    "    except ValueError:\n",
    "        print('That item was not found in the list.')\n",
    "\n",
    "# Call the main function.\n",
    "if __name__ == '__main__':\n",
    "    main()"
   ]
  },
  {
   "cell_type": "code",
   "execution_count": null,
   "metadata": {},
   "outputs": [],
   "source": [
    "# barista_pay.py\n",
    "# This program calculates the gross pay for\n",
    "# each of Megan's baristas.\n",
    "\n",
    "# NUM_EMPLOYEES is used as a constant for the\n",
    "# size of the list.\n",
    "NUM_EMPLOYEES = 6\n",
    "\n",
    "def main():\n",
    "    # Create a list to hold employee hours.\n",
    "    hours = [0] * NUM_EMPLOYEES\n",
    "\n",
    "    # Get each employee's hours worked.\n",
    "    for index in range(NUM_EMPLOYEES):\n",
    "        hours[index] = float(\n",
    "              input(f'Enter the hours worked by employee {index + 1}: '))\n",
    "\n",
    "    # Get the hourly pay rate.\n",
    "    pay_rate = float(input('Enter the hourly pay rate: '))\n",
    "\n",
    "    # Display each employee's gross pay.\n",
    "    for index in range(NUM_EMPLOYEES):\n",
    "        gross_pay = hours[index] * pay_rate\n",
    "        print(f'Gross pay for employee {index + 1}: ${gross_pay:,.2f}')\n",
    "\n",
    "# Call the main function.\n",
    "if __name__ == '__main__':\n",
    "    main()"
   ]
  },
  {
   "cell_type": "code",
   "execution_count": null,
   "metadata": {},
   "outputs": [],
   "source": [
    "# total_list.py\n",
    "# This program calculates the total of the values\n",
    "# in a list.\n",
    "\n",
    "def main():\n",
    "    # Create a list.\n",
    "    numbers = [2, 4, 6, 8, 10]\n",
    "\n",
    "    # Create a variable to use as an accumulator.\n",
    "    total = 0\n",
    "    \n",
    "    # Calculate the total of the list elements.\n",
    "    for value in numbers:\n",
    "        total += value\n",
    "\n",
    "    # Display the total of the list elements.\n",
    "    print(f'The total of the elements is {total}.')\n",
    "\n",
    "# Call the main function.\n",
    "if __name__ == '__main__':\n",
    "    main()"
   ]
  },
  {
   "cell_type": "code",
   "execution_count": null,
   "metadata": {},
   "outputs": [],
   "source": [
    "# average_list.py\n",
    "# This program calculates the average of the values\n",
    "# in a list.\n",
    "\n",
    "def main():\n",
    "    # Create a list.\n",
    "    scores = [2.5, 7.3, 6.5, 4.0, 5.2]\n",
    "\n",
    "    # Create a variable to use as an accumulator.\n",
    "    total = 0.0\n",
    "    \n",
    "    # Calculate the total of the list elements.\n",
    "    for value in scores:\n",
    "        total += value\n",
    "\n",
    "    # Calculate the average of the elements.\n",
    "    average = total / len(scores)\n",
    "    \n",
    "    # Display the total of the list elements.\n",
    "    print(f'The average of the elements is {average}.')\n",
    "\n",
    "# Call the main function.\n",
    "if __name__ == '__main__':\n",
    "    main()"
   ]
  },
  {
   "cell_type": "code",
   "execution_count": null,
   "metadata": {},
   "outputs": [],
   "source": [
    "# total_function.py\n",
    "# This program uses a function to calculate the\n",
    "# total of the values in a list.\n",
    "\n",
    "def main():\n",
    "    # Create a list.\n",
    "    numbers = [2, 4, 6, 8, 10]\n",
    "\n",
    "    # Display the total of the list elements.\n",
    "    print(f'The total is {get_total(numbers)}.')\n",
    "\n",
    "# The get_total function accepts a list as an\n",
    "# argument returns the total of the values in\n",
    "# the list.\n",
    "def get_total(value_list):\n",
    "    # Create a variable to use as an accumulator.\n",
    "    total = 0\n",
    "    \n",
    "    # Calculate the total of the list elements.\n",
    "    for num in value_list:\n",
    "        total += num\n",
    "\n",
    "    # Return the total.\n",
    "    return total\n",
    "\n",
    "# Call the main function.\n",
    "if __name__ == '__main__':\n",
    "    main()"
   ]
  },
  {
   "cell_type": "code",
   "execution_count": null,
   "metadata": {},
   "outputs": [],
   "source": [
    "# return_list.py\n",
    "# This program uses a function to create a list.\n",
    "# The function returns a reference to the list.\n",
    "\n",
    "def main():\n",
    "    # Get a list with values stored in it.\n",
    "    numbers = get_values()\n",
    "\n",
    "    # Display the values in the list.\n",
    "    print('The numbers in the list are:')\n",
    "    print(numbers)\n",
    "\n",
    "# The get_values function gets a series of numbers\n",
    "# from the user and stores them in a list. The\n",
    "# function returns a reference to the list.\n",
    "def get_values():\n",
    "    # Create an empty list.\n",
    "    values = []\n",
    "    \n",
    "    # Create a variable to control the loop.\n",
    "    again = 'Y'\n",
    "\n",
    "    # Get values from the user and add them to\n",
    "    # the list.\n",
    "    while again.upper() == 'Y':\n",
    "        # Get a number and add it to the list.\n",
    "        num = int(input('Enter a number: '))\n",
    "        values.append(num)\n",
    "\n",
    "        # Want to do this again?\n",
    "        print('Do you want to add another number?')\n",
    "        again = input('y = yes, anything else = no: ')\n",
    "        print\n",
    "        \n",
    "    # Return the list.\n",
    "    return values\n",
    "\n",
    "# Call the main function.\n",
    "if __name__ == '__main__':\n",
    "    main()"
   ]
  },
  {
   "cell_type": "code",
   "execution_count": null,
   "metadata": {},
   "outputs": [],
   "source": [
    "# drop_lowest_score.py\n",
    "# This program gets a series of test scores and\n",
    "# calculates the average of the scores with the\n",
    "# lowest score dropped.\n",
    "\n",
    "def main():\n",
    "    # Get the test scores from the user.\n",
    "    scores = get_scores()\n",
    "\n",
    "    # Get the total of the test scores.\n",
    "    total = get_total(scores)\n",
    "\n",
    "    # Get the lowest test score.\n",
    "    lowest = min(scores)\n",
    "\n",
    "    # Subtract the lowest score from the total.\n",
    "    total -= lowest\n",
    "\n",
    "    # Calculate the average. Note that we divide\n",
    "    # by 1 less than the number of scores because\n",
    "    # the lowest score was dropped.\n",
    "    average = total / (len(scores) - 1)\n",
    "\n",
    "    # Display the average.\n",
    "    print(f'Average with lowest score dropped: {average}')\n",
    "\n",
    "# The get_scores function gets a series of test\n",
    "# scores from the user and stores them in a list.\n",
    "# A reference to the list is returned.\n",
    "def get_scores():\n",
    "    # Create an empty list.\n",
    "    test_scores = []\n",
    "    \n",
    "    # Create a variable to control the loop.\n",
    "    again = 'y'\n",
    "\n",
    "    # Get the scores from the user and add them to\n",
    "    # the list.\n",
    "    while again == 'y':\n",
    "        # Get a score and add it to the list.\n",
    "        value = float(input('Enter a test score: '))\n",
    "        test_scores.append(value)\n",
    "\n",
    "        # Want to do this again?\n",
    "        print('Do you want to add another score?')\n",
    "        again = input('y = yes, anything else = no: ')\n",
    "        print()\n",
    "        \n",
    "    # Return the list.\n",
    "    return test_scores\n",
    "\n",
    "# The get_total function accepts a list as an\n",
    "# argument returns the total of the values in\n",
    "# the list.\n",
    "def get_total(value_list):\n",
    "    # Create a variable to use as an accumulator.\n",
    "    total = 0.0\n",
    "    \n",
    "    # Calculate the total of the list elements.\n",
    "    for num in value_list:\n",
    "        total += num\n",
    "\n",
    "    # Return the total.\n",
    "    return total\n",
    "\n",
    "# Call the main function.\n",
    "if __name__ == '__main__':\n",
    "    main()"
   ]
  },
  {
   "cell_type": "code",
   "execution_count": null,
   "metadata": {},
   "outputs": [],
   "source": [
    "# writelines.py\n",
    "# This program uses the writelines method to save\n",
    "# a list of strings to a file.\n",
    "\n",
    "def main():\n",
    "    # Create a list of strings.\n",
    "    cities = ['New York', 'Boston', 'Atlanta', 'Dallas']\n",
    "\n",
    "    # Open a file for writing.\n",
    "    outfile = open('cities.txt', 'w')\n",
    "\n",
    "    # Write the list to the file.\n",
    "    outfile.writelines(cities)\n",
    "\n",
    "    # Close the file.\n",
    "    outfile.close()\n",
    "\n",
    "# Call the main function.\n",
    "if __name__ == '__main__':\n",
    "    main()"
   ]
  },
  {
   "cell_type": "code",
   "execution_count": null,
   "metadata": {},
   "outputs": [],
   "source": [
    "# write_list.py\n",
    "# This program saves a list of strings to a file.\n",
    "\n",
    "def main():\n",
    "    # Create a list of strings.\n",
    "    cities = ['New York', 'Boston', 'Atlanta', 'Dallas']\n",
    "\n",
    "    # Open a file for writing.\n",
    "    outfile = open('cities.txt', 'w')\n",
    "\n",
    "    # Write the list to the file.\n",
    "    for item in cities:\n",
    "        outfile.write(item + '\\n')\n",
    "\n",
    "    # Close the file.\n",
    "    outfile.close()\n",
    "\n",
    "# Call the main function.\n",
    "if __name__ == '__main__':\n",
    "    main()"
   ]
  },
  {
   "cell_type": "code",
   "execution_count": null,
   "metadata": {},
   "outputs": [],
   "source": [
    "# read_list.py\n",
    "# This program reads a file's contents into a list.\n",
    "\n",
    "def main():\n",
    "    # Open a file for reading.\n",
    "    infile = open('cities.txt', 'r')\n",
    "\n",
    "    # Read the contents of the file into a list.\n",
    "    cities = infile.readlines()\n",
    "    \n",
    "    # Close the file.\n",
    "    infile.close()\n",
    "\n",
    "    # Strip the \\n from each element.\n",
    "    for index in range(len(cities)):\n",
    "        cities[index] = cities[index].rstrip('\\n')\n",
    "\n",
    "    # Print the contents of the list.\n",
    "    print(cities)\n",
    "\n",
    "# Call the main function.\n",
    "if __name__ == '__main__':\n",
    "    main()"
   ]
  },
  {
   "cell_type": "code",
   "execution_count": null,
   "metadata": {},
   "outputs": [],
   "source": [
    "# write_number_list.py\n",
    "# This program saves a list of numbers to a file.\n",
    "\n",
    "def main():\n",
    "    # Create a list of numbers.\n",
    "    numbers = [1, 2, 3, 4, 5, 6, 7]\n",
    "\n",
    "    # Open a file for writing.\n",
    "    outfile = open('numberlist.txt', 'w')\n",
    "\n",
    "    # Write the list to the file.\n",
    "    for item in numbers:\n",
    "        outfile.write(str(item) + '\\n')\n",
    "\n",
    "    # Close the file.\n",
    "    outfile.close()\n",
    "\n",
    "# Call the main function.\n",
    "if __name__ == '__main__':\n",
    "    main()"
   ]
  },
  {
   "cell_type": "code",
   "execution_count": null,
   "metadata": {},
   "outputs": [],
   "source": [
    "# read_number_list.py\n",
    "# This program reads numbers from a file into a list.\n",
    "\n",
    "def main():\n",
    "    # Open a file for reading.\n",
    "    infile = open('numberlist.txt', 'r')\n",
    "\n",
    "    # Read the contents of the file into a list.\n",
    "    numbers = infile.readlines()\n",
    "    \n",
    "    # Close the file.\n",
    "    infile.close()\n",
    "\n",
    "    # Convert each element to an int.\n",
    "    for index in range(len(numbers)):\n",
    "        numbers[index] = int(numbers[index])\n",
    "\n",
    "    # Print the contents of the list.\n",
    "    print(numbers)\n",
    "\n",
    "# Call the main function.\n",
    "if __name__ == '__main__':\n",
    "    main()"
   ]
  },
  {
   "cell_type": "markdown",
   "metadata": {},
   "source": [
    "## List Comprehensions\n",
    "* **Amazingly**, you can create lists **with code inside [ ]**.\n",
    "* Here are a few examples **from our textbook**."
   ]
  },
  {
   "cell_type": "code",
   "execution_count": null,
   "metadata": {},
   "outputs": [],
   "source": [
    "list1 = [1, 2, 3, 4]\n",
    "list2 = [item ** 2 for item in list1]\n",
    "print(list2)"
   ]
  },
  {
   "cell_type": "code",
   "execution_count": null,
   "metadata": {},
   "outputs": [],
   "source": [
    "str_list = ['Winken', 'Blinken', 'Nod']\n",
    "len_list = [len(s) for s in str_list]\n",
    "print(len_list)"
   ]
  },
  {
   "cell_type": "code",
   "execution_count": null,
   "metadata": {},
   "outputs": [],
   "source": [
    "list1 = [1, 2, 12, 20, 3, 15, 4]\n",
    "list2 = [item for item in list1 if item < 10]\n",
    "print(list2)"
   ]
  },
  {
   "cell_type": "code",
   "execution_count": null,
   "metadata": {},
   "outputs": [],
   "source": [
    "last_names = ['Jackson','Smith','Hildebrandt','Jones']\n",
    "short_names = [name for name in last_names if len(name) < 6]\n",
    "print(short_names)"
   ]
  },
  {
   "cell_type": "markdown",
   "metadata": {},
   "source": [
    "### Here are few more examples **not in our textbook**."
   ]
  },
  {
   "cell_type": "code",
   "execution_count": null,
   "metadata": {},
   "outputs": [],
   "source": [
    "# A list of 10 random integers between 20 and 100\n",
    "import random as ra\n",
    "rands = [ra.randint(20,100) for x in range(10)]\n",
    "print(rands)"
   ]
  },
  {
   "cell_type": "code",
   "execution_count": null,
   "metadata": {},
   "outputs": [],
   "source": [
    "roots = [f'{x ** (0.5):.2f}' for x in range(15,26)]\n",
    "print(roots)"
   ]
  },
  {
   "cell_type": "code",
   "execution_count": null,
   "metadata": {},
   "outputs": [],
   "source": [
    "fah = [f for f in range(20,101,10)]\n",
    "cel = [int(f'{5/9 * (f-32):.0f}') for f in fah]\n",
    "print('Some Fahrenheit temperatures...')\n",
    "print(fah)\n",
    "print('Equivalent Celsius temperatures...')\n",
    "print(cel)"
   ]
  },
  {
   "cell_type": "markdown",
   "metadata": {},
   "source": [
    "### You are not responsible for anything after **page 399** in this chapter."
   ]
  },
  {
   "cell_type": "markdown",
   "metadata": {},
   "source": [
    "### However, plotting with matplotlib is awesome.\n",
    "* The program below may not run here. Try it in IDLE."
   ]
  },
  {
   "cell_type": "code",
   "execution_count": null,
   "metadata": {},
   "outputs": [],
   "source": [
    "# pie_chart2.py\n",
    "# This program displays a simple pie chart.\n",
    "import matplotlib.pyplot as plt\n",
    "\n",
    "def main():\n",
    "    # Create a list of sales amounts.\n",
    "    sales = [100, 400, 300, 600]\n",
    "\n",
    "    # Create a list of labels for the slices.\n",
    "    slice_labels = ['1st Qtr', '2nd Qtr', '3rd Qtr', '4th Qtr']\n",
    "\n",
    "    # Create a pie chart from the values.\n",
    "    plt.pie(sales, labels=slice_labels)\n",
    "\n",
    "    # Add a title.\n",
    "    plt.title('Sales by Quarter')\n",
    "    \n",
    "    # Display the pie chart.\n",
    "    plt.show()\n",
    "\n",
    "# Call the main function.\n",
    "if __name__ == '__main__':\n",
    "    main()"
   ]
  },
  {
   "cell_type": "markdown",
   "metadata": {},
   "source": [
    "## Now try some end-of-chapter exercises."
   ]
  },
  {
   "cell_type": "code",
   "execution_count": null,
   "metadata": {},
   "outputs": [],
   "source": [
    "!pip freeze > dockerimage_snapshot.txt'"
   ]
  },
  {
   "cell_type": "code",
   "execution_count": null,
   "metadata": {},
   "outputs": [],
   "source": []
  }
 ],
 "metadata": {
  "kernelspec": {
   "display_name": "Python 3 (ipykernel)",
   "language": "python",
   "name": "python3"
  },
  "language_info": {
   "codemirror_mode": {
    "name": "ipython",
    "version": 3
   },
   "file_extension": ".py",
   "mimetype": "text/x-python",
   "name": "python",
   "nbconvert_exporter": "python",
   "pygments_lexer": "ipython3",
   "version": "3.8.11"
  }
 },
 "nbformat": 4,
 "nbformat_minor": 4
}
